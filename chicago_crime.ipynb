{
 "cells": [
  {
   "cell_type": "markdown",
   "metadata": {},
   "source": [
    "# Homework 1 - ML for PP\n"
   ]
  },
  {
   "cell_type": "code",
   "execution_count": 98,
   "metadata": {},
   "outputs": [],
   "source": [
    "import requests\n",
    "import seaborn as sns\n",
    "import matplotlib.pylab as plt\n",
    "import geopandas as gp\n",
    "import pandas as pd\n",
    "from geopandas.tools import sjoin\n",
    "from shapely.geometry import Point"
   ]
  },
  {
   "cell_type": "markdown",
   "metadata": {},
   "source": [
    "## Problem 1: Data Acquisition and Analysis"
   ]
  },
  {
   "cell_type": "code",
   "execution_count": 99,
   "metadata": {},
   "outputs": [],
   "source": [
    "#Define dict of urls for data acquisition\n",
    "urls = {}\n",
    "for year in [2016,2017,2018]:\n",
    "  urls[year]='https://data.cityofchicago.org/resource/6zsd-86xi.json?year='+str(year)+'&$limit=300000'"
   ]
  },
  {
   "cell_type": "code",
   "execution_count": 100,
   "metadata": {},
   "outputs": [],
   "source": [
    "#Download data for each year\n",
    "dfs_raw = {}\n",
    "for year in [2016,2017,2018]:\n",
    "  dfs_raw[year]= pd.read_json(urls[year])"
   ]
  },
  {
   "cell_type": "code",
   "execution_count": 101,
   "metadata": {},
   "outputs": [],
   "source": [
    "#Drop rows with empty values (we are particularly interesting in dropping data without lat, lon)\n",
    "#Also reset indices\n",
    "dfs={}\n",
    "for key, df_raw in dfs_raw.items():\n",
    "  dfs[key] = df_raw.dropna()\n",
    "  dfs[key].reset_index(drop=True, inplace=True)\n",
    "\n",
    "#Check no empty values in dfs\n",
    "for key, df in dfs.items():\n",
    "  if df.isnull().values.any():\n",
    "    print(\"df \"+str(key)+\" with nan values\")\n",
    "  "
   ]
  },
  {
   "cell_type": "code",
   "execution_count": 102,
   "metadata": {},
   "outputs": [],
   "source": [
    "# Generate summary statistics for the crime reports data including but not limited to\n",
    "# number of crimes of each type, how they change over time, and how they are\n",
    "# different by neighborhood. Please use a combination of tables and graphs to\n",
    "# present these summary stats.\n",
    "\n",
    "\n",
    "#Get frquency of different type of crimes\n",
    "type_crimes = {}\n",
    "for year in [2017, 2018]:\n",
    "  type_crimes[year] = pd.DataFrame(dfs[year].groupby(['primary_type']).size())\n",
    "  type_crimes[year].columns = [year]\n",
    "  "
   ]
  },
  {
   "cell_type": "code",
   "execution_count": 103,
   "metadata": {},
   "outputs": [
    {
     "data": {
      "text/html": [
       "<div>\n",
       "<style scoped>\n",
       "    .dataframe tbody tr th:only-of-type {\n",
       "        vertical-align: middle;\n",
       "    }\n",
       "\n",
       "    .dataframe tbody tr th {\n",
       "        vertical-align: top;\n",
       "    }\n",
       "\n",
       "    .dataframe thead th {\n",
       "        text-align: right;\n",
       "    }\n",
       "</style>\n",
       "<table border=\"1\" class=\"dataframe\">\n",
       "  <thead>\n",
       "    <tr style=\"text-align: right;\">\n",
       "      <th></th>\n",
       "      <th>2017</th>\n",
       "      <th>2018</th>\n",
       "      <th>% change</th>\n",
       "    </tr>\n",
       "    <tr>\n",
       "      <th>Type of Crimes</th>\n",
       "      <th></th>\n",
       "      <th></th>\n",
       "      <th></th>\n",
       "    </tr>\n",
       "  </thead>\n",
       "  <tbody>\n",
       "    <tr>\n",
       "      <th>TOTAL</th>\n",
       "      <td>264119.0</td>\n",
       "      <td>262787.0</td>\n",
       "      <td>-0.504318</td>\n",
       "    </tr>\n",
       "    <tr>\n",
       "      <th>THEFT</th>\n",
       "      <td>63584.0</td>\n",
       "      <td>64026.0</td>\n",
       "      <td>0.695143</td>\n",
       "    </tr>\n",
       "    <tr>\n",
       "      <th>BATTERY</th>\n",
       "      <td>49134.0</td>\n",
       "      <td>49713.0</td>\n",
       "      <td>1.178410</td>\n",
       "    </tr>\n",
       "    <tr>\n",
       "      <th>CRIMINAL DAMAGE</th>\n",
       "      <td>28954.0</td>\n",
       "      <td>27700.0</td>\n",
       "      <td>-4.331008</td>\n",
       "    </tr>\n",
       "    <tr>\n",
       "      <th>ASSAULT</th>\n",
       "      <td>19250.0</td>\n",
       "      <td>20341.0</td>\n",
       "      <td>5.667532</td>\n",
       "    </tr>\n",
       "    <tr>\n",
       "      <th>DECEPTIVE PRACTICE</th>\n",
       "      <td>16966.0</td>\n",
       "      <td>17219.0</td>\n",
       "      <td>1.491218</td>\n",
       "    </tr>\n",
       "    <tr>\n",
       "      <th>OTHER OFFENSE</th>\n",
       "      <td>16962.0</td>\n",
       "      <td>16954.0</td>\n",
       "      <td>-0.047164</td>\n",
       "    </tr>\n",
       "    <tr>\n",
       "      <th>BURGLARY</th>\n",
       "      <td>12946.0</td>\n",
       "      <td>11687.0</td>\n",
       "      <td>-9.725012</td>\n",
       "    </tr>\n",
       "    <tr>\n",
       "      <th>ROBBERY</th>\n",
       "      <td>11870.0</td>\n",
       "      <td>9678.0</td>\n",
       "      <td>-18.466723</td>\n",
       "    </tr>\n",
       "    <tr>\n",
       "      <th>NARCOTICS</th>\n",
       "      <td>11475.0</td>\n",
       "      <td>12796.0</td>\n",
       "      <td>11.511983</td>\n",
       "    </tr>\n",
       "    <tr>\n",
       "      <th>MOTOR VEHICLE THEFT</th>\n",
       "      <td>11344.0</td>\n",
       "      <td>9941.0</td>\n",
       "      <td>-12.367772</td>\n",
       "    </tr>\n",
       "    <tr>\n",
       "      <th>CRIMINAL TRESPASS</th>\n",
       "      <td>6799.0</td>\n",
       "      <td>6881.0</td>\n",
       "      <td>1.206060</td>\n",
       "    </tr>\n",
       "    <tr>\n",
       "      <th>WEAPONS VIOLATION</th>\n",
       "      <td>4682.0</td>\n",
       "      <td>5444.0</td>\n",
       "      <td>16.275096</td>\n",
       "    </tr>\n",
       "    <tr>\n",
       "      <th>OFFENSE INVOLVING CHILDREN</th>\n",
       "      <td>2138.0</td>\n",
       "      <td>2149.0</td>\n",
       "      <td>0.514500</td>\n",
       "    </tr>\n",
       "    <tr>\n",
       "      <th>CRIM SEXUAL ASSAULT</th>\n",
       "      <td>1533.0</td>\n",
       "      <td>1557.0</td>\n",
       "      <td>1.565558</td>\n",
       "    </tr>\n",
       "    <tr>\n",
       "      <th>PUBLIC PEACE VIOLATION</th>\n",
       "      <td>1496.0</td>\n",
       "      <td>1364.0</td>\n",
       "      <td>-8.823529</td>\n",
       "    </tr>\n",
       "    <tr>\n",
       "      <th>INTERFERENCE WITH PUBLIC OFFICER</th>\n",
       "      <td>1083.0</td>\n",
       "      <td>1305.0</td>\n",
       "      <td>20.498615</td>\n",
       "    </tr>\n",
       "    <tr>\n",
       "      <th>SEX OFFENSE</th>\n",
       "      <td>930.0</td>\n",
       "      <td>1050.0</td>\n",
       "      <td>12.903226</td>\n",
       "    </tr>\n",
       "    <tr>\n",
       "      <th>PROSTITUTION</th>\n",
       "      <td>734.0</td>\n",
       "      <td>717.0</td>\n",
       "      <td>-2.316076</td>\n",
       "    </tr>\n",
       "    <tr>\n",
       "      <th>HOMICIDE</th>\n",
       "      <td>675.0</td>\n",
       "      <td>589.0</td>\n",
       "      <td>-12.740741</td>\n",
       "    </tr>\n",
       "    <tr>\n",
       "      <th>ARSON</th>\n",
       "      <td>444.0</td>\n",
       "      <td>373.0</td>\n",
       "      <td>-15.990991</td>\n",
       "    </tr>\n",
       "    <tr>\n",
       "      <th>GAMBLING</th>\n",
       "      <td>191.0</td>\n",
       "      <td>201.0</td>\n",
       "      <td>5.235602</td>\n",
       "    </tr>\n",
       "    <tr>\n",
       "      <th>LIQUOR LAW VIOLATION</th>\n",
       "      <td>191.0</td>\n",
       "      <td>265.0</td>\n",
       "      <td>38.743455</td>\n",
       "    </tr>\n",
       "    <tr>\n",
       "      <th>KIDNAPPING</th>\n",
       "      <td>190.0</td>\n",
       "      <td>171.0</td>\n",
       "      <td>-10.000000</td>\n",
       "    </tr>\n",
       "    <tr>\n",
       "      <th>STALKING</th>\n",
       "      <td>184.0</td>\n",
       "      <td>199.0</td>\n",
       "      <td>8.152174</td>\n",
       "    </tr>\n",
       "    <tr>\n",
       "      <th>INTIMIDATION</th>\n",
       "      <td>150.0</td>\n",
       "      <td>167.0</td>\n",
       "      <td>11.333333</td>\n",
       "    </tr>\n",
       "    <tr>\n",
       "      <th>OBSCENITY</th>\n",
       "      <td>79.0</td>\n",
       "      <td>86.0</td>\n",
       "      <td>8.860759</td>\n",
       "    </tr>\n",
       "    <tr>\n",
       "      <th>CONCEALED CARRY LICENSE VIOLATION</th>\n",
       "      <td>69.0</td>\n",
       "      <td>148.0</td>\n",
       "      <td>114.492754</td>\n",
       "    </tr>\n",
       "    <tr>\n",
       "      <th>NON-CRIMINAL</th>\n",
       "      <td>36.0</td>\n",
       "      <td>36.0</td>\n",
       "      <td>0.000000</td>\n",
       "    </tr>\n",
       "    <tr>\n",
       "      <th>OTHER NARCOTIC VIOLATION</th>\n",
       "      <td>11.0</td>\n",
       "      <td>1.0</td>\n",
       "      <td>-90.909091</td>\n",
       "    </tr>\n",
       "    <tr>\n",
       "      <th>PUBLIC INDECENCY</th>\n",
       "      <td>10.0</td>\n",
       "      <td>14.0</td>\n",
       "      <td>40.000000</td>\n",
       "    </tr>\n",
       "    <tr>\n",
       "      <th>HUMAN TRAFFICKING</th>\n",
       "      <td>7.0</td>\n",
       "      <td>12.0</td>\n",
       "      <td>71.428571</td>\n",
       "    </tr>\n",
       "    <tr>\n",
       "      <th>NON-CRIMINAL (SUBJECT SPECIFIED)</th>\n",
       "      <td>2.0</td>\n",
       "      <td>3.0</td>\n",
       "      <td>50.000000</td>\n",
       "    </tr>\n",
       "  </tbody>\n",
       "</table>\n",
       "</div>"
      ],
      "text/plain": [
       "                                       2017      2018    % change\n",
       "Type of Crimes                                                   \n",
       "TOTAL                              264119.0  262787.0   -0.504318\n",
       "THEFT                               63584.0   64026.0    0.695143\n",
       "BATTERY                             49134.0   49713.0    1.178410\n",
       "CRIMINAL DAMAGE                     28954.0   27700.0   -4.331008\n",
       "ASSAULT                             19250.0   20341.0    5.667532\n",
       "DECEPTIVE PRACTICE                  16966.0   17219.0    1.491218\n",
       "OTHER OFFENSE                       16962.0   16954.0   -0.047164\n",
       "BURGLARY                            12946.0   11687.0   -9.725012\n",
       "ROBBERY                             11870.0    9678.0  -18.466723\n",
       "NARCOTICS                           11475.0   12796.0   11.511983\n",
       "MOTOR VEHICLE THEFT                 11344.0    9941.0  -12.367772\n",
       "CRIMINAL TRESPASS                    6799.0    6881.0    1.206060\n",
       "WEAPONS VIOLATION                    4682.0    5444.0   16.275096\n",
       "OFFENSE INVOLVING CHILDREN           2138.0    2149.0    0.514500\n",
       "CRIM SEXUAL ASSAULT                  1533.0    1557.0    1.565558\n",
       "PUBLIC PEACE VIOLATION               1496.0    1364.0   -8.823529\n",
       "INTERFERENCE WITH PUBLIC OFFICER     1083.0    1305.0   20.498615\n",
       "SEX OFFENSE                           930.0    1050.0   12.903226\n",
       "PROSTITUTION                          734.0     717.0   -2.316076\n",
       "HOMICIDE                              675.0     589.0  -12.740741\n",
       "ARSON                                 444.0     373.0  -15.990991\n",
       "GAMBLING                              191.0     201.0    5.235602\n",
       "LIQUOR LAW VIOLATION                  191.0     265.0   38.743455\n",
       "KIDNAPPING                            190.0     171.0  -10.000000\n",
       "STALKING                              184.0     199.0    8.152174\n",
       "INTIMIDATION                          150.0     167.0   11.333333\n",
       "OBSCENITY                              79.0      86.0    8.860759\n",
       "CONCEALED CARRY LICENSE VIOLATION      69.0     148.0  114.492754\n",
       "NON-CRIMINAL                           36.0      36.0    0.000000\n",
       "OTHER NARCOTIC VIOLATION               11.0       1.0  -90.909091\n",
       "PUBLIC INDECENCY                       10.0      14.0   40.000000\n",
       "HUMAN TRAFFICKING                       7.0      12.0   71.428571\n",
       "NON-CRIMINAL (SUBJECT SPECIFIED)        2.0       3.0   50.000000"
      ]
     },
     "execution_count": 103,
     "metadata": {},
     "output_type": "execute_result"
    }
   ],
   "source": [
    "#Present a df with types of crimes in each year\n",
    "\n",
    "#Create unique df with info of types of crimes for both years\n",
    "#>#Better way of joining dfs: https://www.datacamp.com/community/tutorials/joining-dataframes-pandas\n",
    "freq_table = type_crimes[2018].add(type_crimes[2017], fill_value=0)\n",
    "freq_table.index.names = ['Type of Crimes']\n",
    "\n",
    "#Add totals\n",
    "for year in [2017,2018]:\n",
    "  freq_table.loc['TOTAL', year] = dfs[year].count()[0]\n",
    "\n",
    "\n",
    "#Add rate change\n",
    "freq_table['% change'] = freq_table[2018]/freq_table[2017]*100-100\n",
    "\n",
    "#Sort by crimes in 2017\n",
    "freq_table=freq_table.sort_values(2017,ascending=False)\n",
    "\n",
    "freq_table"
   ]
  },
  {
   "cell_type": "code",
   "execution_count": 104,
   "metadata": {},
   "outputs": [
    {
     "data": {
      "image/png": "[encoded data removed]",
      "text/plain": [
       "<Figure size 432x288 with 1 Axes>"
      ]
     },
     "metadata": {},
     "output_type": "display_data"
    }
   ],
   "source": [
    "#Bar plot for top 10 types of crimes in 2018\n",
    "crimes_2018=type_crimes[2018].reset_index()\n",
    "crimes_2018.sort_values(2018,ascending=False, inplace=True)\n",
    "top_crimes_2018 = crimes_2018[0:10]\n",
    "ax = sns.barplot(x=\"Type of Crimes\", y=2018, data=top_crimes_2018)\n",
    "plt.xticks(rotation=50)\n",
    "plt.ylabel('Number of crimes')\n",
    "plt.show()"
   ]
  },
  {
   "cell_type": "code",
   "execution_count": 105,
   "metadata": {},
   "outputs": [],
   "source": [
    "#Analysis per community area(neighborhood) in 2018\n",
    "\n",
    "#Group by community area to get amount of crimes\n",
    "crimes_per_neighborhood = pd.DataFrame(dfs[2018].groupby(['community_area']).size())\n",
    "\n",
    "#Set community_area as a column\n",
    "crimes_per_neighborhood.reset_index(level=0, inplace=True)\n",
    "\n",
    "#Change column type to  to int\n",
    "crimes_per_neighborhood['community_area'] = crimes_per_neighborhood['community_area'].astype(int)\n",
    "\n",
    "#Set column name\n",
    "crimes_per_neighborhood.columns = ['community_area','N of crimes']"
   ]
  },
  {
   "cell_type": "code",
   "execution_count": 106,
   "metadata": {},
   "outputs": [],
   "source": [
    "#Load neighborhoods geojson\n",
    "comunities_geojson_url = 'Boundaries - Community Areas (current).geojson'\n",
    "neighborhoods = gp.read_file(comunities_geojson_url)\n",
    "\n",
    "#Change column type to  to int\n",
    "neighborhoods['area_num_1'] = neighborhoods['area_num_1'].astype(int)"
   ]
  },
  {
   "cell_type": "code",
   "execution_count": 107,
   "metadata": {},
   "outputs": [],
   "source": [
    "#Merge neighborhoods geojson with crimes per neighborhood\n",
    "neighborhoods_crimes_table = pd.merge(neighborhoods, crimes_per_neighborhood, left_on='area_num_1', right_on='community_area')"
   ]
  },
  {
   "cell_type": "code",
   "execution_count": 108,
   "metadata": {},
   "outputs": [
    {
     "data": {
      "text/plain": [
       "<matplotlib.axes._subplots.AxesSubplot at 0x7f049f7e0668>"
      ]
     },
     "execution_count": 108,
     "metadata": {},
     "output_type": "execute_result"
    },
    {
     "data": {
      "image/png": "[encoded data removed]",
      "text/plain": [
       "<Figure size 576x576 with 1 Axes>"
      ]
     },
     "metadata": {},
     "output_type": "display_data"
    }
   ],
   "source": [
    "# neighborhoods_crimes_table.dropna(inplace=True)\n",
    "\n",
    "#Plot heatmap of crimes\n",
    "neighborhoods_crimes_table.plot('N of crimes', cmap='Reds',figsize=(8, 8))"
   ]
  },
  {
   "cell_type": "code",
   "execution_count": 109,
   "metadata": {},
   "outputs": [
    {
     "data": {
      "text/html": [
       "<div>\n",
       "<style scoped>\n",
       "    .dataframe tbody tr th:only-of-type {\n",
       "        vertical-align: middle;\n",
       "    }\n",
       "\n",
       "    .dataframe tbody tr th {\n",
       "        vertical-align: top;\n",
       "    }\n",
       "\n",
       "    .dataframe thead th {\n",
       "        text-align: right;\n",
       "    }\n",
       "</style>\n",
       "<table border=\"1\" class=\"dataframe\">\n",
       "  <thead>\n",
       "    <tr style=\"text-align: right;\">\n",
       "      <th></th>\n",
       "      <th>Neighborhood</th>\n",
       "      <th>N of crimes</th>\n",
       "      <th>% of total crimes in city</th>\n",
       "    </tr>\n",
       "  </thead>\n",
       "  <tbody>\n",
       "    <tr>\n",
       "      <th>0</th>\n",
       "      <td>AUSTIN</td>\n",
       "      <td>14921</td>\n",
       "      <td>5.677983</td>\n",
       "    </tr>\n",
       "    <tr>\n",
       "      <th>1</th>\n",
       "      <td>NEAR NORTH SIDE</td>\n",
       "      <td>12782</td>\n",
       "      <td>4.864015</td>\n",
       "    </tr>\n",
       "    <tr>\n",
       "      <th>2</th>\n",
       "      <td>LOOP</td>\n",
       "      <td>10639</td>\n",
       "      <td>4.048526</td>\n",
       "    </tr>\n",
       "    <tr>\n",
       "      <th>3</th>\n",
       "      <td>NORTH LAWNDALE</td>\n",
       "      <td>9229</td>\n",
       "      <td>3.511970</td>\n",
       "    </tr>\n",
       "    <tr>\n",
       "      <th>4</th>\n",
       "      <td>NEAR WEST SIDE</td>\n",
       "      <td>9220</td>\n",
       "      <td>3.508545</td>\n",
       "    </tr>\n",
       "    <tr>\n",
       "      <th>5</th>\n",
       "      <td>SOUTH SHORE</td>\n",
       "      <td>8558</td>\n",
       "      <td>3.256630</td>\n",
       "    </tr>\n",
       "    <tr>\n",
       "      <th>6</th>\n",
       "      <td>HUMBOLDT PARK</td>\n",
       "      <td>7968</td>\n",
       "      <td>3.032113</td>\n",
       "    </tr>\n",
       "    <tr>\n",
       "      <th>7</th>\n",
       "      <td>AUBURN GRESHAM</td>\n",
       "      <td>7294</td>\n",
       "      <td>2.775632</td>\n",
       "    </tr>\n",
       "    <tr>\n",
       "      <th>8</th>\n",
       "      <td>WEST TOWN</td>\n",
       "      <td>7132</td>\n",
       "      <td>2.713985</td>\n",
       "    </tr>\n",
       "    <tr>\n",
       "      <th>9</th>\n",
       "      <td>WEST ENGLEWOOD</td>\n",
       "      <td>7022</td>\n",
       "      <td>2.672126</td>\n",
       "    </tr>\n",
       "    <tr>\n",
       "      <th>10</th>\n",
       "      <td>ROSELAND</td>\n",
       "      <td>6833</td>\n",
       "      <td>2.600205</td>\n",
       "    </tr>\n",
       "    <tr>\n",
       "      <th>11</th>\n",
       "      <td>CHATHAM</td>\n",
       "      <td>6453</td>\n",
       "      <td>2.455601</td>\n",
       "    </tr>\n",
       "    <tr>\n",
       "      <th>12</th>\n",
       "      <td>GREATER GRAND CROSSING</td>\n",
       "      <td>6292</td>\n",
       "      <td>2.394335</td>\n",
       "    </tr>\n",
       "    <tr>\n",
       "      <th>13</th>\n",
       "      <td>ENGLEWOOD</td>\n",
       "      <td>6165</td>\n",
       "      <td>2.346006</td>\n",
       "    </tr>\n",
       "    <tr>\n",
       "      <th>14</th>\n",
       "      <td>LAKE VIEW</td>\n",
       "      <td>5778</td>\n",
       "      <td>2.198739</td>\n",
       "    </tr>\n",
       "  </tbody>\n",
       "</table>\n",
       "</div>"
      ],
      "text/plain": [
       "              Neighborhood  N of crimes  % of total crimes in city\n",
       "0                   AUSTIN        14921                   5.677983\n",
       "1          NEAR NORTH SIDE        12782                   4.864015\n",
       "2                     LOOP        10639                   4.048526\n",
       "3           NORTH LAWNDALE         9229                   3.511970\n",
       "4           NEAR WEST SIDE         9220                   3.508545\n",
       "5              SOUTH SHORE         8558                   3.256630\n",
       "6            HUMBOLDT PARK         7968                   3.032113\n",
       "7           AUBURN GRESHAM         7294                   2.775632\n",
       "8                WEST TOWN         7132                   2.713985\n",
       "9           WEST ENGLEWOOD         7022                   2.672126\n",
       "10                ROSELAND         6833                   2.600205\n",
       "11                 CHATHAM         6453                   2.455601\n",
       "12  GREATER GRAND CROSSING         6292                   2.394335\n",
       "13               ENGLEWOOD         6165                   2.346006\n",
       "14               LAKE VIEW         5778                   2.198739"
      ]
     },
     "execution_count": 109,
     "metadata": {},
     "output_type": "execute_result"
    }
   ],
   "source": [
    "#Print table with neighborhoods and their % of crimes of total in the city\n",
    "\n",
    "#Keep only these 2 columns\n",
    "neighb_crimes_table_to_print = neighborhoods_crimes_table[['community','N of crimes']]\n",
    "#Change columns names\n",
    "neighb_crimes_table_to_print.columns=['Neighborhood','N of crimes'] \n",
    "\n",
    "#Add column % of total\n",
    "neighb_crimes_table_to_print['% of total crimes in city'] = neighb_crimes_table_to_print['N of crimes']/sum(neighb_crimes_table_to_print['N of crimes'])*100\n",
    "\n",
    "#Print list sorted of top 15 neighborhoods by N of crimes\n",
    "neighb_crimes_table_to_print.sort_values('N of crimes',ascending=False).reset_index(drop=True)[0:15]"
   ]
  },
  {
   "cell_type": "markdown",
   "metadata": {},
   "source": [
    "## Question 2: Data Augmentation and APIs"
   ]
  },
  {
   "cell_type": "markdown",
   "metadata": {},
   "source": [
    "### 1, 2. What types of blocks have reports of “Battery”? What types of blocks get “Homicide”?"
   ]
  },
  {
   "cell_type": "code",
   "execution_count": 110,
   "metadata": {},
   "outputs": [],
   "source": [
    "#To describe blocks we will need to join the crime data with census data.\n",
    "#Crime data has lat,lon for each crime, while census data has tract number,\n",
    "#so we we will first make a spacial join to get a tract number for each crime\n",
    "#Later, we will be able to join crimes with the census data\n",
    "\n",
    "#Remove warning\n",
    "pd.options.mode.chained_assignment = None  # default='warn'\n",
    "\n",
    "#Shapefile that enables spacial join from (lat, lon) to geometri points\n",
    "census_shp = gp.read_file(\"chicago_census_tracts/census.shp\")\n",
    "\n",
    "def augment_df_with_geographic_data(df):\n",
    "  '''\n",
    "  Given a df with lat and long columns, it extends the df with new columns with geometric data of location(particularly with tract number)\n",
    "  '''\n",
    "  df=df.reset_index(drop=True)\n",
    " \n",
    "  #Transform each lat,long location of crime to a Point readable by GeoDataFrame\n",
    "  geometry = [Point(xy) for xy in zip(df['longitude'], df['latitude'])]\n",
    "  crs = {'init' :'epsg:4326'}\n",
    "  points = gp.GeoDataFrame(crs=crs, geometry=geometry)\n",
    "\n",
    "  #Spacial Join between the crime Points and the census shape_file, so as to get tract of each point\n",
    "  pointInPolys = sjoin(points, census_shp, how='left',op=\"within\")\n",
    "\n",
    "  #Join crime data with geographic data of each point\n",
    "  df=df.join(pointInPolys, lsuffix='_caller', rsuffix='_other')\n",
    "  return df\n",
    "\n",
    "crimes_2018_and_geog = augment_df_with_geographic_data(dfs[2018])\n",
    "crimes_2017_and_geog = augment_df_with_geographic_data(dfs[2017])\n"
   ]
  },
  {
   "cell_type": "code",
   "execution_count": 111,
   "metadata": {},
   "outputs": [
    {
     "data": {
      "text/html": [
       "<div>\n",
       "<style scoped>\n",
       "    .dataframe tbody tr th:only-of-type {\n",
       "        vertical-align: middle;\n",
       "    }\n",
       "\n",
       "    .dataframe tbody tr th {\n",
       "        vertical-align: top;\n",
       "    }\n",
       "\n",
       "    .dataframe thead th {\n",
       "        text-align: right;\n",
       "    }\n",
       "</style>\n",
       "<table border=\"1\" class=\"dataframe\">\n",
       "  <thead>\n",
       "    <tr style=\"text-align: right;\">\n",
       "      <th></th>\n",
       "      <th>primary_type</th>\n",
       "      <th>median_income</th>\n",
       "      <th>total_population</th>\n",
       "      <th>white</th>\n",
       "      <th>african_american</th>\n",
       "      <th>% white</th>\n",
       "      <th>% african_american</th>\n",
       "    </tr>\n",
       "  </thead>\n",
       "  <tbody>\n",
       "    <tr>\n",
       "      <th>2</th>\n",
       "      <td>BATTERY</td>\n",
       "      <td>42991.697881</td>\n",
       "      <td>3839.615919</td>\n",
       "      <td>1278.100342</td>\n",
       "      <td>1905.537398</td>\n",
       "      <td>33.287192</td>\n",
       "      <td>49.628334</td>\n",
       "    </tr>\n",
       "    <tr>\n",
       "      <th>10</th>\n",
       "      <td>HOMICIDE</td>\n",
       "      <td>34078.385399</td>\n",
       "      <td>3427.497453</td>\n",
       "      <td>648.623090</td>\n",
       "      <td>2312.601019</td>\n",
       "      <td>18.924101</td>\n",
       "      <td>67.471998</td>\n",
       "    </tr>\n",
       "  </tbody>\n",
       "</table>\n",
       "</div>"
      ],
      "text/plain": [
       "   primary_type  median_income  total_population        white  \\\n",
       "2       BATTERY   42991.697881       3839.615919  1278.100342   \n",
       "10     HOMICIDE   34078.385399       3427.497453   648.623090   \n",
       "\n",
       "    african_american    % white  % african_american  \n",
       "2        1905.537398  33.287192           49.628334  \n",
       "10       2312.601019  18.924101           67.471998  "
      ]
     },
     "execution_count": 111,
     "metadata": {},
     "output_type": "execute_result"
    }
   ],
   "source": [
    "#Get census info\n",
    "\n",
    "#Define variables we are interested to get from census. Reference: https://api.census.gov/data/2017/acs/acs5/variables.html\n",
    "NAME='NAME'\n",
    "MEDIAN_INCOME_CODE='B19013_001E'\n",
    "TOTAL_POP_CODE='B01003_001E'\n",
    "WHITE_CODE='B02001_002E'\n",
    "AFRICAN_AMERICAN_CODE='B02001_003E'\n",
    "\n",
    "MEDIAN_INCOME='median_income'\n",
    "TOTAL_POP='total_population'\n",
    "WHITE='white'\n",
    "AFRICAN_AMERICAN='african_american'\n",
    "\n",
    "VARIABLES_OF_INTEREST = [MEDIAN_INCOME, TOTAL_POP, WHITE, AFRICAN_AMERICAN]  \n",
    "\n",
    "variables_codes=NAME+','+MEDIAN_INCOME_CODE+','+TOTAL_POP_CODE+','+WHITE_CODE+','+AFRICAN_AMERICAN_CODE\n",
    "\n",
    "key = '5984786462aaccc39f904bf750cc8274bd40f9f8'\n",
    "census_api_url = 'https://api.census.gov/data/2017/acs/acs5?get='+variables_codes+'&for=tract:*&in=state:17%40county:031&key='+key\n",
    "\n",
    "def join_crime_data_with_census(crime_df):\n",
    "  \n",
    "  #Join between crime data and census based on tract\n",
    "  crime_and_census = crime_df.join(census, on='tractce10')\n",
    "\n",
    "  #Rename columns\n",
    "  crime_and_census=crime_and_census.rename(columns={\n",
    "    median_income_code: MEDIAN_INCOME, total_population_code: TOTAL_POP, white_code:WHITE,african_american_code:AFRICAN_AMERICAN})\n",
    "\n",
    "  #Change column types to numeric'\n",
    "  for column in VARIABLES_OF_INTEREST:\n",
    "    crime_and_census[column] = pd.to_numeric(crime_and_census[column])\n",
    "     \n",
    "  return crime_and_census\n",
    "  \n",
    "\n",
    "def group_by_type_crime(crime_2018_and_census):\n",
    "  '''\n",
    "  Group by type of crime and get mean of interesting variables\n",
    "  '''\n",
    "\n",
    "  #Dictionary mapping each variable of interest to an aggregation function\n",
    "  agg_functions = {}\n",
    "  for var in VARIABLES_OF_INTEREST:\n",
    "    agg_functions[var]='mean'\n",
    "\n",
    "  type_crime_and_census = pd.DataFrame(crime_2018_and_census.groupby(['primary_type'], as_index=False).agg(agg_functions))\n",
    "\n",
    "  return type_crime_and_census\n",
    "\n",
    "\n",
    "\n",
    "def filter_by_crime_type(df, crimes_of_interest):\n",
    "  \n",
    "  filtered_data= df.loc[df['primary_type'].isin(crimes_of_interest)]\n",
    "\n",
    "  return filtered_data\n",
    "\n",
    "def add_ptg_race(df):\n",
    "\n",
    "  #Add percentages of whites and african american\n",
    "  df['% '+WHITE]=df[WHITE]/df[TOTAL_POP]*100\n",
    "  df['% '+AFRICAN_AMERICAN]=df[AFRICAN_AMERICAN]/df[TOTAL_POP]*100\n",
    "  \n",
    "  return df\n",
    "\n",
    "#We get census data at tract level\n",
    "census = pd.read_json(census_api_url)\n",
    "\n",
    "#Move first row to header and then remove first row\n",
    "census.columns = census.iloc[0] \n",
    "census = census.iloc[1:]\n",
    "\n",
    "#Remove tracts with negative values for median_income\n",
    "census=census[pd.to_numeric(census[MEDIAN_INCOME_CODE])> 0]\n",
    "\n",
    "#Set the index for census data to be tract, we need this for join on tract\n",
    "census=census.set_index('tract')\n",
    "\n",
    "crimes_2018_and_census = join_crime_data_with_census(crimes_2018_and_geog)\n",
    "\n",
    "type_crimes_2018_and_census = group_by_type_crime(crimes_2018_and_census)\n",
    "  \n",
    "crimes_of_interest=['BATTERY','HOMICIDE']\n",
    "filtered_by_crime_type = filter_by_crime_type(type_crimes_2018_and_census, crimes_of_interest)\n",
    "\n",
    "filtered_by_crime_type = add_ptg_race(filtered_by_crime_type)\n",
    "\n",
    "filtered_by_crime_type\n"
   ]
  },
  {
   "cell_type": "markdown",
   "metadata": {},
   "source": [
    "In the previous table we can compare the characteristics of the places where crimes related to Battery and Homicide occur. We notice, first of all, that Battery crimes occur in tract areas with higher median income that Homicide crimes (42992 vs 34078). Secondly, we notice that the white population in tracts with Battery Crimes are higher than tracts with Homicide (33% vs 19%). The opposite occurs with the african american population: it is proportionally higher in tracts with Homicide than Battery (67% vs 50%)"
   ]
  },
  {
   "cell_type": "markdown",
   "metadata": {},
   "source": [
    "### 3. Does that change over time in the data you collected?"
   ]
  },
  {
   "cell_type": "code",
   "execution_count": 112,
   "metadata": {},
   "outputs": [
    {
     "data": {
      "text/html": [
       "<div>\n",
       "<style scoped>\n",
       "    .dataframe tbody tr th:only-of-type {\n",
       "        vertical-align: middle;\n",
       "    }\n",
       "\n",
       "    .dataframe tbody tr th {\n",
       "        vertical-align: top;\n",
       "    }\n",
       "\n",
       "    .dataframe thead th {\n",
       "        text-align: right;\n",
       "    }\n",
       "</style>\n",
       "<table border=\"1\" class=\"dataframe\">\n",
       "  <thead>\n",
       "    <tr style=\"text-align: right;\">\n",
       "      <th></th>\n",
       "      <th>primary_type</th>\n",
       "      <th>median_income</th>\n",
       "      <th>total_population</th>\n",
       "      <th>white</th>\n",
       "      <th>african_american</th>\n",
       "      <th>% white</th>\n",
       "      <th>% african_american</th>\n",
       "    </tr>\n",
       "  </thead>\n",
       "  <tbody>\n",
       "    <tr>\n",
       "      <th>2</th>\n",
       "      <td>BATTERY</td>\n",
       "      <td>42494.782720</td>\n",
       "      <td>3815.684068</td>\n",
       "      <td>1238.783478</td>\n",
       "      <td>1935.848160</td>\n",
       "      <td>32.465567</td>\n",
       "      <td>50.733974</td>\n",
       "    </tr>\n",
       "    <tr>\n",
       "      <th>10</th>\n",
       "      <td>HOMICIDE</td>\n",
       "      <td>34348.811852</td>\n",
       "      <td>3700.980741</td>\n",
       "      <td>698.746667</td>\n",
       "      <td>2457.791111</td>\n",
       "      <td>18.880041</td>\n",
       "      <td>66.409184</td>\n",
       "    </tr>\n",
       "  </tbody>\n",
       "</table>\n",
       "</div>"
      ],
      "text/plain": [
       "   primary_type  median_income  total_population        white  \\\n",
       "2       BATTERY   42494.782720       3815.684068  1238.783478   \n",
       "10     HOMICIDE   34348.811852       3700.980741   698.746667   \n",
       "\n",
       "    african_american    % white  % african_american  \n",
       "2        1935.848160  32.465567           50.733974  \n",
       "10       2457.791111  18.880041           66.409184  "
      ]
     },
     "execution_count": 112,
     "metadata": {},
     "output_type": "execute_result"
    }
   ],
   "source": [
    "crimes_2017_and_census = join_crime_data_with_census(crimes_2017_and_geog)\n",
    "\n",
    "type_crimes_2017_and_census = group_by_type_crime(crimes_2017_and_census)\n",
    "  \n",
    "filtered_by_crime_type = filter_by_crime_type(type_crimes_2017_and_census, crimes_of_interest)\n",
    "\n",
    "filtered_by_crime_type = add_ptg_race(filtered_by_crime_type)\n",
    "\n",
    "filtered_by_crime_type"
   ]
  },
  {
   "cell_type": "markdown",
   "metadata": {},
   "source": [
    "\n",
    "When looking at the data from 2017, we can observe that there are no mayor changes in the tendencies."
   ]
  },
  {
   "cell_type": "markdown",
   "metadata": {},
   "source": [
    "\n",
    "### 4. What is the difference in blocks that get “Deceptive Practice” vs “Sex Offense”?"
   ]
  },
  {
   "cell_type": "code",
   "execution_count": 113,
   "metadata": {},
   "outputs": [
    {
     "data": {
      "text/html": [
       "<div>\n",
       "<style scoped>\n",
       "    .dataframe tbody tr th:only-of-type {\n",
       "        vertical-align: middle;\n",
       "    }\n",
       "\n",
       "    .dataframe tbody tr th {\n",
       "        vertical-align: top;\n",
       "    }\n",
       "\n",
       "    .dataframe thead th {\n",
       "        text-align: right;\n",
       "    }\n",
       "</style>\n",
       "<table border=\"1\" class=\"dataframe\">\n",
       "  <thead>\n",
       "    <tr style=\"text-align: right;\">\n",
       "      <th></th>\n",
       "      <th>primary_type</th>\n",
       "      <th>median_income</th>\n",
       "      <th>total_population</th>\n",
       "      <th>white</th>\n",
       "      <th>african_american</th>\n",
       "      <th>% white</th>\n",
       "      <th>% african_american</th>\n",
       "    </tr>\n",
       "  </thead>\n",
       "  <tbody>\n",
       "    <tr>\n",
       "      <th>8</th>\n",
       "      <td>DECEPTIVE PRACTICE</td>\n",
       "      <td>64038.187086</td>\n",
       "      <td>4517.759342</td>\n",
       "      <td>2360.987346</td>\n",
       "      <td>1265.836329</td>\n",
       "      <td>52.260140</td>\n",
       "      <td>28.019118</td>\n",
       "    </tr>\n",
       "    <tr>\n",
       "      <th>28</th>\n",
       "      <td>SEX OFFENSE</td>\n",
       "      <td>52896.063279</td>\n",
       "      <td>4112.177373</td>\n",
       "      <td>1927.360499</td>\n",
       "      <td>1389.612656</td>\n",
       "      <td>46.869586</td>\n",
       "      <td>33.792624</td>\n",
       "    </tr>\n",
       "  </tbody>\n",
       "</table>\n",
       "</div>"
      ],
      "text/plain": [
       "          primary_type  median_income  total_population        white  \\\n",
       "8   DECEPTIVE PRACTICE   64038.187086       4517.759342  2360.987346   \n",
       "28         SEX OFFENSE   52896.063279       4112.177373  1927.360499   \n",
       "\n",
       "    african_american    % white  % african_american  \n",
       "8        1265.836329  52.260140           28.019118  \n",
       "28       1389.612656  46.869586           33.792624  "
      ]
     },
     "execution_count": 113,
     "metadata": {},
     "output_type": "execute_result"
    }
   ],
   "source": [
    "crimes_of_interest=['DECEPTIVE PRACTICE','SEX OFFENSE']\n",
    "\n",
    "\n",
    "filtered_by_crime_type = filter_by_crime_type(type_crimes_2018_and_census, crimes_of_interest)\n",
    "\n",
    "filtered_by_crime_type = add_ptg_race(filtered_by_crime_type)\n",
    "\n",
    "filtered_by_crime_type"
   ]
  },
  {
   "cell_type": "markdown",
   "metadata": {},
   "source": [
    "In this case, we observe higher median_income for tracts that presesent Deceptive Practice than Sex Offense. At the same time, tracts with Deceptive Practice have higher % of white population and lower of african american, compared to tracts with Sex Offense,"
   ]
  },
  {
   "cell_type": "markdown",
   "metadata": {},
   "source": [
    "## Question 3\n",
    "### 1. Describe how crime has changed in Chicago from 2017 to 2018?\n"
   ]
  },
  {
   "cell_type": "code",
   "execution_count": 114,
   "metadata": {},
   "outputs": [
    {
     "data": {
      "text/html": [
       "<div>\n",
       "<style scoped>\n",
       "    .dataframe tbody tr th:only-of-type {\n",
       "        vertical-align: middle;\n",
       "    }\n",
       "\n",
       "    .dataframe tbody tr th {\n",
       "        vertical-align: top;\n",
       "    }\n",
       "\n",
       "    .dataframe thead th {\n",
       "        text-align: right;\n",
       "    }\n",
       "</style>\n",
       "<table border=\"1\" class=\"dataframe\">\n",
       "  <thead>\n",
       "    <tr style=\"text-align: right;\">\n",
       "      <th></th>\n",
       "      <th>2017</th>\n",
       "      <th>2018</th>\n",
       "      <th>% change</th>\n",
       "    </tr>\n",
       "    <tr>\n",
       "      <th>Type of Crimes</th>\n",
       "      <th></th>\n",
       "      <th></th>\n",
       "      <th></th>\n",
       "    </tr>\n",
       "  </thead>\n",
       "  <tbody>\n",
       "    <tr>\n",
       "      <th>TOTAL</th>\n",
       "      <td>264119.0</td>\n",
       "      <td>262787.0</td>\n",
       "      <td>-0.504318</td>\n",
       "    </tr>\n",
       "    <tr>\n",
       "      <th>THEFT</th>\n",
       "      <td>63584.0</td>\n",
       "      <td>64026.0</td>\n",
       "      <td>0.695143</td>\n",
       "    </tr>\n",
       "    <tr>\n",
       "      <th>BATTERY</th>\n",
       "      <td>49134.0</td>\n",
       "      <td>49713.0</td>\n",
       "      <td>1.178410</td>\n",
       "    </tr>\n",
       "  </tbody>\n",
       "</table>\n",
       "</div>"
      ],
      "text/plain": [
       "                    2017      2018  % change\n",
       "Type of Crimes                              \n",
       "TOTAL           264119.0  262787.0 -0.504318\n",
       "THEFT            63584.0   64026.0  0.695143\n",
       "BATTERY          49134.0   49713.0  1.178410"
      ]
     },
     "execution_count": 114,
     "metadata": {},
     "output_type": "execute_result"
    }
   ],
   "source": [
    "freq_table.sort_values(2018,ascending=False).head(3)"
   ]
  },
  {
   "cell_type": "markdown",
   "metadata": {},
   "source": [
    "Between 2017 and 2018, the total amount of crimes in the city barely changed (there was a decrease of 0.5%).\n",
    "\n",
    "The most common type of crime in 2017 and 2018 was THEFT, followd by BATTERY."
   ]
  },
  {
   "cell_type": "code",
   "execution_count": 115,
   "metadata": {},
   "outputs": [
    {
     "data": {
      "text/html": [
       "<div>\n",
       "<style scoped>\n",
       "    .dataframe tbody tr th:only-of-type {\n",
       "        vertical-align: middle;\n",
       "    }\n",
       "\n",
       "    .dataframe tbody tr th {\n",
       "        vertical-align: top;\n",
       "    }\n",
       "\n",
       "    .dataframe thead th {\n",
       "        text-align: right;\n",
       "    }\n",
       "</style>\n",
       "<table border=\"1\" class=\"dataframe\">\n",
       "  <thead>\n",
       "    <tr style=\"text-align: right;\">\n",
       "      <th></th>\n",
       "      <th>2017</th>\n",
       "      <th>2018</th>\n",
       "      <th>% change</th>\n",
       "    </tr>\n",
       "    <tr>\n",
       "      <th>Type of Crimes</th>\n",
       "      <th></th>\n",
       "      <th></th>\n",
       "      <th></th>\n",
       "    </tr>\n",
       "  </thead>\n",
       "  <tbody>\n",
       "    <tr>\n",
       "      <th>CONCEALED CARRY LICENSE VIOLATION</th>\n",
       "      <td>69.0</td>\n",
       "      <td>148.0</td>\n",
       "      <td>114.492754</td>\n",
       "    </tr>\n",
       "    <tr>\n",
       "      <th>HUMAN TRAFFICKING</th>\n",
       "      <td>7.0</td>\n",
       "      <td>12.0</td>\n",
       "      <td>71.428571</td>\n",
       "    </tr>\n",
       "  </tbody>\n",
       "</table>\n",
       "</div>"
      ],
      "text/plain": [
       "                                   2017   2018    % change\n",
       "Type of Crimes                                            \n",
       "CONCEALED CARRY LICENSE VIOLATION  69.0  148.0  114.492754\n",
       "HUMAN TRAFFICKING                   7.0   12.0   71.428571"
      ]
     },
     "execution_count": 115,
     "metadata": {},
     "output_type": "execute_result"
    }
   ],
   "source": [
    "freq_table.sort_values('% change',ascending=False).head(2)"
   ]
  },
  {
   "cell_type": "markdown",
   "metadata": {},
   "source": [
    "The type of crimes that most increased where CONCEALED CARRY LICENSE VIOLATION, from 69 in 2017 to 148 in 2018, and HUMAN TRAFFICKING (which increased in a 75%), from 8 to 14 crimes.\n"
   ]
  },
  {
   "cell_type": "code",
   "execution_count": 116,
   "metadata": {},
   "outputs": [
    {
     "data": {
      "text/html": [
       "<div>\n",
       "<style scoped>\n",
       "    .dataframe tbody tr th:only-of-type {\n",
       "        vertical-align: middle;\n",
       "    }\n",
       "\n",
       "    .dataframe tbody tr th {\n",
       "        vertical-align: top;\n",
       "    }\n",
       "\n",
       "    .dataframe thead th {\n",
       "        text-align: right;\n",
       "    }\n",
       "</style>\n",
       "<table border=\"1\" class=\"dataframe\">\n",
       "  <thead>\n",
       "    <tr style=\"text-align: right;\">\n",
       "      <th></th>\n",
       "      <th>2017</th>\n",
       "      <th>2018</th>\n",
       "      <th>% change</th>\n",
       "    </tr>\n",
       "    <tr>\n",
       "      <th>Type of Crimes</th>\n",
       "      <th></th>\n",
       "      <th></th>\n",
       "      <th></th>\n",
       "    </tr>\n",
       "  </thead>\n",
       "  <tbody>\n",
       "    <tr>\n",
       "      <th>OTHER NARCOTIC VIOLATION</th>\n",
       "      <td>11.0</td>\n",
       "      <td>1.0</td>\n",
       "      <td>-90.909091</td>\n",
       "    </tr>\n",
       "    <tr>\n",
       "      <th>ROBBERY</th>\n",
       "      <td>11870.0</td>\n",
       "      <td>9678.0</td>\n",
       "      <td>-18.466723</td>\n",
       "    </tr>\n",
       "  </tbody>\n",
       "</table>\n",
       "</div>"
      ],
      "text/plain": [
       "                             2017    2018   % change\n",
       "Type of Crimes                                      \n",
       "OTHER NARCOTIC VIOLATION     11.0     1.0 -90.909091\n",
       "ROBBERY                   11870.0  9678.0 -18.466723"
      ]
     },
     "execution_count": 116,
     "metadata": {},
     "output_type": "execute_result"
    }
   ],
   "source": [
    "freq_table.sort_values('% change',ascending=True).head(2)"
   ]
  },
  {
   "cell_type": "markdown",
   "metadata": {},
   "source": [
    "The type of crimes that most decreased was where ROBBERY (in a 18%) and OTHER NARCOTIC VIOLATION (in a 90%)."
   ]
  },
  {
   "cell_type": "markdown",
   "metadata": {},
   "source": [
    "### 2. Alderman statistics"
   ]
  },
  {
   "cell_type": "code",
   "execution_count": 117,
   "metadata": {},
   "outputs": [],
   "source": [
    "#Filter data for ward 43\n",
    "dfs_43={}\n",
    "for key, df in dfs.items():\n",
    "  dfs_43[key] = df[df['ward'] ==43]\n",
    "\n",
    "#Filter data for selected week\n",
    "selected_week={}\n",
    "for year, df in dfs_43.items():\n",
    "  selected_week[year] = df[(df['date'] > str(year)+'-07-01') & (df['date'] < str(year)+'-07-27')]\n"
   ]
  },
  {
   "cell_type": "code",
   "execution_count": 118,
   "metadata": {},
   "outputs": [],
   "source": [
    "#Grouped by type of crime\n",
    "type_crimes_in_selected_week={}\n",
    "for year in [2017, 2018]:\n",
    "  type_crimes_in_selected_week[year] = pd.DataFrame(selected_week[year].groupby(['primary_type']).size())"
   ]
  },
  {
   "cell_type": "code",
   "execution_count": 119,
   "metadata": {},
   "outputs": [],
   "source": [
    "#Dicts to save stats\n",
    "stats_year = {}\n",
    "stats_year[2018]={}\n",
    "stats_year[2017]={}\n",
    "\n",
    "crimes_of_interest = ['ROBBERY', 'BATTERY', 'BURGLARY', 'MOTOR VEHICLE THEFT']\n",
    "for year in [2017, 2018]:\n",
    "  for crime in crimes_of_interest:\n",
    "      stats_year[year][crime]=type_crimes_in_selected_week[year].loc[crime][0]"
   ]
  },
  {
   "cell_type": "code",
   "execution_count": 121,
   "metadata": {},
   "outputs": [],
   "source": [
    "rows = ['Robberies', 'Batteries', 'Burglaries','Motor vehicle']\n",
    "\n",
    "df = pd.DataFrame(columns=['2017','2018'])\n",
    "# pd.DataFrame(columns=columns)\n",
    "\n",
    "for crime in crimes_of_interest:\n",
    "  df.loc[crime] = [stats_year[2017][crime], stats_year[2018][crime]]"
   ]
  },
  {
   "cell_type": "code",
   "execution_count": 122,
   "metadata": {},
   "outputs": [
    {
     "data": {
      "text/html": [
       "<div>\n",
       "<style scoped>\n",
       "    .dataframe tbody tr th:only-of-type {\n",
       "        vertical-align: middle;\n",
       "    }\n",
       "\n",
       "    .dataframe tbody tr th {\n",
       "        vertical-align: top;\n",
       "    }\n",
       "\n",
       "    .dataframe thead th {\n",
       "        text-align: right;\n",
       "    }\n",
       "</style>\n",
       "<table border=\"1\" class=\"dataframe\">\n",
       "  <thead>\n",
       "    <tr style=\"text-align: right;\">\n",
       "      <th></th>\n",
       "      <th>2017</th>\n",
       "      <th>2018</th>\n",
       "      <th>Real % change</th>\n",
       "      <th>Alderman announced % change</th>\n",
       "    </tr>\n",
       "  </thead>\n",
       "  <tbody>\n",
       "    <tr>\n",
       "      <th>ROBBERY</th>\n",
       "      <td>15</td>\n",
       "      <td>8</td>\n",
       "      <td>-46.6667</td>\n",
       "      <td>136</td>\n",
       "    </tr>\n",
       "    <tr>\n",
       "      <th>BATTERY</th>\n",
       "      <td>38</td>\n",
       "      <td>30</td>\n",
       "      <td>-21.0526</td>\n",
       "      <td>50</td>\n",
       "    </tr>\n",
       "    <tr>\n",
       "      <th>BURGLARY</th>\n",
       "      <td>14</td>\n",
       "      <td>13</td>\n",
       "      <td>-7.14286</td>\n",
       "      <td>41</td>\n",
       "    </tr>\n",
       "    <tr>\n",
       "      <th>MOTOR VEHICLE THEFT</th>\n",
       "      <td>6</td>\n",
       "      <td>10</td>\n",
       "      <td>66.6667</td>\n",
       "      <td>21</td>\n",
       "    </tr>\n",
       "  </tbody>\n",
       "</table>\n",
       "</div>"
      ],
      "text/plain": [
       "                    2017 2018 Real % change  Alderman announced % change\n",
       "ROBBERY               15    8      -46.6667                          136\n",
       "BATTERY               38   30      -21.0526                           50\n",
       "BURGLARY              14   13      -7.14286                           41\n",
       "MOTOR VEHICLE THEFT    6   10       66.6667                           21"
      ]
     },
     "execution_count": 122,
     "metadata": {},
     "output_type": "execute_result"
    }
   ],
   "source": [
    "df['Real % change']=(df['2018']/df['2017']-1)*100\n",
    "df['Alderman announced % change']=[136,50,41,21]\n",
    "df\n"
   ]
  },
  {
   "cell_type": "markdown",
   "metadata": {},
   "source": [
    "We first observe that, for the mentioned week, the % change in the different crimes types mentioned by the alderman have no relationship with the real data. This stats are totally misleading: for batteries, burglaries and robberies, the amount of crimes has decreased, not increased as he stated. In the case of motor vehicle crimes, they have increased more than reported by Alderman."
   ]
  },
  {
   "cell_type": "code",
   "execution_count": 123,
   "metadata": {},
   "outputs": [
    {
     "data": {
      "text/plain": [
       "8.766233766233755"
      ]
     },
     "execution_count": 123,
     "metadata": {},
     "output_type": "execute_result"
    }
   ],
   "source": [
    "percentage_raise=(selected_week[2018].size/selected_week[2017].size-1)*100\n",
    "percentage_raise"
   ]
  },
  {
   "cell_type": "markdown",
   "metadata": {},
   "source": [
    "The alderman reports that crime rose 16 percent in the same 28-day time period in just one\n",
    "year, but the true crime rise was of 8.7%. This is misleading, although it does inform that crime increase for the same 28-day period, the percentage reported is almost double than real.\n",
    "\n",
    "Lets now consider the year-to-date numbers:"
   ]
  },
  {
   "cell_type": "code",
   "execution_count": 124,
   "metadata": {},
   "outputs": [
    {
     "name": "stdout",
     "output_type": "stream",
     "text": [
      "9.726156751652493\n",
      "20.103359173126623\n"
     ]
    }
   ],
   "source": [
    "year_to_date = {}\n",
    "for year in [2016,2017,2018]:\n",
    "  year_to_date[year] = dfs_43[year][(dfs_43[year]['date'] < str(year)+'-07-27')].size\n",
    "\n",
    "  \n",
    "increase_since_2017 = (year_to_date[2018]/year_to_date[2017]-1)*100\n",
    "increase_since_2016 = (year_to_date[2018]/year_to_date[2016]-1)*100\n",
    "print(increase_since_2017)\n",
    "print(increase_since_2016)\n"
   ]
  },
  {
   "cell_type": "markdown",
   "metadata": {},
   "source": [
    "Now the Alderman has more precise numbers. His report of an increase in 10% in the year-to-date since 2017 is accurate. Since 2016 is 20% rather than 22%, but still relatively precise."
   ]
  },
  {
   "cell_type": "markdown",
   "metadata": {},
   "source": [
    "## Question 4: 911\n",
    "\n",
    "### A)"
   ]
  },
  {
   "cell_type": "code",
   "execution_count": 125,
   "metadata": {},
   "outputs": [],
   "source": [
    "import censusgeocode as cg\n",
    "\n",
    "#Get comunity area code for the address\n",
    "address='2111 S Michigan Ave, Chicago, IL'\n",
    "e=cg.onelineaddress(address)\n",
    "lon=e[0]['coordinates']['x']\n",
    "lat=e[0]['coordinates']['y']\n",
    "\n",
    "#Get point\n",
    "geometry = [Point(xy) for xy in zip([lon],[lat])]\n",
    "crs = {'init' :'epsg:4326'}\n",
    "point = gp.GeoDataFrame(crs=crs, geometry=geometry)\n",
    "\n",
    "#Spacial Join between the point and shape_file, so as to get community area\n",
    "point_with_geo_info = sjoin(point, neighborhoods, how='left',op=\"within\")\n",
    "community_area = int(point_with_geo_info.area_num_1[0])"
   ]
  },
  {
   "cell_type": "code",
   "execution_count": 126,
   "metadata": {},
   "outputs": [
    {
     "name": "stdout",
     "output_type": "stream",
     "text": [
      "                                   # of crimes  Fraction of total\n",
      "Type of Crimes                                                   \n",
      "THEFT                                      583           0.326977\n",
      "BATTERY                                    278           0.155917\n",
      "DECEPTIVE PRACTICE                         226           0.126753\n",
      "CRIMINAL DAMAGE                            187           0.104879\n",
      "ASSAULT                                    122           0.068424\n",
      "OTHER OFFENSE                              108           0.060572\n",
      "MOTOR VEHICLE THEFT                         70           0.039260\n",
      "CRIMINAL TRESPASS                           49           0.027482\n",
      "ROBBERY                                     49           0.027482\n",
      "BURGLARY                                    31           0.017386\n",
      "NARCOTICS                                   18           0.010095\n",
      "CRIM SEXUAL ASSAULT                         12           0.006730\n",
      "WEAPONS VIOLATION                           11           0.006169\n",
      "SEX OFFENSE                                  9           0.005048\n",
      "PUBLIC PEACE VIOLATION                       8           0.004487\n",
      "OFFENSE INVOLVING CHILDREN                   5           0.002804\n",
      "LIQUOR LAW VIOLATION                         5           0.002804\n",
      "HOMICIDE                                     3           0.001683\n",
      "ARSON                                        2           0.001122\n",
      "INTIMIDATION                                 2           0.001122\n",
      "OBSCENITY                                    1           0.000561\n",
      "INTERFERENCE WITH PUBLIC OFFICER             1           0.000561\n",
      "STALKING                                     1           0.000561\n",
      "CONCEALED CARRY LICENSE VIOLATION            1           0.000561\n",
      "KIDNAPPING                                   1           0.000561\n"
     ]
    }
   ],
   "source": [
    "crimes_33 = dfs[2018].loc[dfs[2018]['community_area'] == community_area]\n",
    "\n",
    "type_crimes_33 = pd.DataFrame(crimes_33.groupby(['primary_type']).size())\n",
    "type_crimes_33.columns = ['# of crimes']\n",
    "type_crimes_33.index.names = ['Type of Crimes']\n",
    "type_crimes_33=type_crimes_33.sort_values('# of crimes', ascending=False)\n",
    "\n",
    "total_33 = type_crimes_33['# of crimes'].sum()\n",
    "\n",
    "\n",
    "type_crimes_33['Fraction of total']=type_crimes_33['# of crimes']/total_33\n",
    "\n",
    "print(type_crimes_33)"
   ]
  },
  {
   "cell_type": "markdown",
   "metadata": {},
   "source": [
    "Given the data of crimes in 2018, and the crime types in NEAR SOUTH SIDE, it is most likely that the type of crime related to the call is a Theft. The 'Fraction of total' in the previous table is a good aproximation to the probabilities of each type of request."
   ]
  },
  {
   "cell_type": "markdown",
   "metadata": {},
   "source": [
    "### B)"
   ]
  },
  {
   "cell_type": "code",
   "execution_count": 127,
   "metadata": {},
   "outputs": [
    {
     "name": "stdout",
     "output_type": "stream",
     "text": [
      "   # of thefts Neighborhood\n",
      "2          784       UPTOWN\n",
      "3         1325     GARFIELD\n"
     ]
    }
   ],
   "source": [
    "# Let’s now assume that a call comes in about Theft. Which is more likely – that the\n",
    "# call came from Garfield Park or Uptown? How much more or less likely is it to be\n",
    "# from Garfield Park vs Uptown?\n",
    "\n",
    "#First filter crimes so as only to have thefts\n",
    "thefts = dfs[2018].loc[dfs[2018]['primary_type'] == 'THEFT']\n",
    "\n",
    "#Group by community_areas\n",
    "thefts = pd.DataFrame(thefts.groupby(['community_area']).size())\n",
    "thefts.columns = ['# of thefts']\n",
    "\n",
    "\n",
    "#Join with neighborhoods info to get names of community_areas\n",
    "thefts_neighborhoods = thefts.join(neighborhoods, on='community_area')\n",
    "thefts_neighborhoods = thefts_neighborhoods[['# of thefts','community']] #Keep only these 2 columns\n",
    "thefts_neighborhoods.columns=['# of thefts','Neighborhood'] #Change columns names\n",
    "\n",
    "#Filter neighborhoods\n",
    "some_neighbors=['WEST GARFIELD PARK','EAST GARFIELD PARK','UPTOWN']\n",
    "crimes_uptown_or_garfield=thefts_neighborhoods.loc[thefts_neighborhoods['Neighborhood'].isin(some_neighbors)]\n",
    "crimes_uptown_or_garfield = crimes_uptown_or_garfield.reset_index()\n",
    "\n",
    "#Drop community_area code column\n",
    "crimes_uptown_or_garfield = crimes_uptown_or_garfield.drop(['community_area'], axis=1)\n",
    "\n",
    "total_garfield = crimes_uptown_or_garfield.loc[0]['# of thefts'] + crimes_uptown_or_garfield.loc[1]['# of thefts']\n",
    "\n",
    "#Create new row with total for Garfield\n",
    "crimes_uptown_or_garfield = crimes_uptown_or_garfield.append({'# of thefts' : total_garfield , 'Neighborhood' : 'GARFIELD'} , ignore_index=True)\n",
    "\n",
    "\n",
    "#Delete previous garfield rows\n",
    "final_neighbors=['GARFIELD','UPTOWN']\n",
    "crimes_uptown_or_garfield=crimes_uptown_or_garfield.loc[crimes_uptown_or_garfield['Neighborhood'].isin(final_neighbors)]\n",
    "\n",
    "print(crimes_uptown_or_garfield)\n"
   ]
  },
  {
   "cell_type": "markdown",
   "metadata": {},
   "source": [
    "Considering the amounts of thefts that occured in 2019, we can observe that it is more likely that a new theft will occur in Garfield rather than in Uptown. The following number representes how much more likely is it the theft to be from Garfield Park vs Uptown:"
   ]
  },
  {
   "cell_type": "code",
   "execution_count": 128,
   "metadata": {},
   "outputs": [
    {
     "name": "stdout",
     "output_type": "stream",
     "text": [
      "69.00510204081634%\n"
     ]
    }
   ],
   "source": [
    "change_likelihood=crimes_uptown_or_garfield.iloc[1]['# of thefts']/crimes_uptown_or_garfield.iloc[0]['# of thefts']-1\n",
    "print(str(change_likelihood*100)+'%')\n"
   ]
  },
  {
   "cell_type": "markdown",
   "metadata": {},
   "source": [
    "### C)"
   ]
  },
  {
   "cell_type": "code",
   "execution_count": 129,
   "metadata": {},
   "outputs": [
    {
     "name": "stdout",
     "output_type": "stream",
     "text": [
      "0.38461538461538464\n",
      "0.6153846153846154\n",
      "1.6\n"
     ]
    }
   ],
   "source": [
    "garfield_battery_calls=100\n",
    "uptown_battery_calls=160\n",
    "total_battery_calls=garfield_battery_calls+uptown_battery_calls\n",
    "\n",
    "prob_bat_call_from_garf = garfield_battery_calls/total_battery_calls\n",
    "prob_bat_call_from_uptown = uptown_battery_calls/total_battery_calls\n",
    "\n",
    "print(prob_bat_call_from_garf)\n",
    "print(prob_bat_call_from_uptown)\n",
    "print(prob_bat_call_from_uptown/prob_bat_call_from_garf)\n"
   ]
  },
  {
   "cell_type": "markdown",
   "metadata": {},
   "source": [
    "If the call is know to be a Battery, then the probability that it is from Garfield is 0.38, while the probability for Uptown is 0.62. So, it is ~60% more likely that the probabiliry is from Uptown than Garfield.\n"
   ]
  }
 ],
 "metadata": {
  "kernelspec": {
   "display_name": "Python 3",
   "language": "python",
   "name": "python3"
  },
  "language_info": {
   "codemirror_mode": {
    "name": "ipython",
    "version": 3
   },
   "file_extension": ".py",
   "mimetype": "text/x-python",
   "name": "python",
   "nbconvert_exporter": "python",
   "pygments_lexer": "ipython3",
   "version": "3.6.7"
  }
 },
 "nbformat": 4,
 "nbformat_minor": 2
}
